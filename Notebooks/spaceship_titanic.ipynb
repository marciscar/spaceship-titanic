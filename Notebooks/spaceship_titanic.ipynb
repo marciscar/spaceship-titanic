{
 "cells": [
  {
   "cell_type": "markdown",
   "id": "0d70d97a-5db2-4fc2-b071-fc977b45dd11",
   "metadata": {},
   "source": [
    "# Spaceship Titanic from Kaggle"
   ]
  },
  {
   "cell_type": "markdown",
   "id": "1ad0cf71-5968-498d-b649-c9dfb92f808c",
   "metadata": {},
   "source": [
    "#### Dataset description (from Kaggle)\n",
    "\n",
    "\n",
    "In this competition your task is to predict whether a passenger was transported to an alternate dimension during the Spaceship Titanic's collision with the spacetime anomaly. To help you make these predictions, you're given a set of personal records recovered from the ship's damaged computer system.\n",
    "\n"
   ]
  },
  {
   "cell_type": "markdown",
   "id": "043b0bab-6458-4570-8304-9ce42aa3e2da",
   "metadata": {},
   "source": [
    "#### File and Data Field Descriptions\n",
    "\n",
    "-  __train.csv__ - Personal records for about two-thirds (approx 8700) of the passengers, to be used as training data.\n",
    "\n",
    "\n",
    "    - _PassengerId_ - A unique Id for each passenger. Each Id takes the form _gggg_pp_ where _gggg_ indicates a group the passenger is travelling with and _pp_ is their number within the group. People in a group are often family members, but not always.\n",
    "\n",
    "    - _HomePlanet_ - The planet the passenger departed from, typically their planet of permanent residence.\n",
    "\n",
    "    - _CryoSleep_ - Indicates whether the passenger elected to be put into suspended animation for the duration of the voyage. Passengers in cryosleep are confined to their cabins.\n",
    "\n",
    "    - _Cabin_ - The cabin number where the passenger is staying. Takes the form _deck/num/side_, where side can be either _P_ for Port or _S_ for Starboard.\n",
    "\n",
    "    - _Destination_ - The planet the passenger will be debarking to.\n",
    "\n",
    "    - _Age_ - The age of the passenger.\n",
    "\n",
    "    - _VIP_ - Whether the passenger has paid for special VIP service during the voyage.\n",
    "\n",
    "    - _RoomService_, _FoodCourt_, _ShoppingMall_, _Spa_, _VRDeck_ - Amount the passenger has billed at each of the Spaceship Titanic's many luxury amenities.\n",
    "\n",
    "    - _Name_ - The first and last names of the passenger.\n",
    "\n",
    "    - _Transported_ - Whether the passenger was transported to another dimension. This is the target, the column you are trying to predict.\n",
    "\n",
    "\n",
    "- __test.csv__ - Personal records for the remaining one-third (approx 4300) of the passengers, to be used as test data. Your task is to predict the value of _Transported_ for the passengers in this set.\n",
    "\n",
    "- __sample_submission.csv__ - A submission file in the correct format.\n",
    "\n",
    "    - _PassengerId_ - Id for each passenger in the test set.\n",
    "\n",
    "\n",
    "    - _Transported_ - The target. For each passenger, predict either _True_ or _False_."
   ]
  },
  {
   "cell_type": "code",
   "execution_count": 1,
   "id": "dcdb2ac3-bf11-47a0-98b1-88c6120b9b50",
   "metadata": {},
   "outputs": [],
   "source": [
    "import numpy as np\n",
    "import pandas as pd\n",
    "import matplotlib.pyplot as plt\n",
    "import seaborn as sns"
   ]
  },
  {
   "cell_type": "code",
   "execution_count": 6,
   "id": "f723ee42-632c-4864-9f91-4c674aded496",
   "metadata": {},
   "outputs": [
    {
     "name": "stdout",
     "output_type": "stream",
     "text": [
      "<class 'pandas.core.frame.DataFrame'>\n",
      "RangeIndex: 8693 entries, 0 to 8692\n",
      "Data columns (total 14 columns):\n",
      " #   Column        Non-Null Count  Dtype  \n",
      "---  ------        --------------  -----  \n",
      " 0   PassengerId   8693 non-null   object \n",
      " 1   HomePlanet    8492 non-null   object \n",
      " 2   CryoSleep     8476 non-null   object \n",
      " 3   Cabin         8494 non-null   object \n",
      " 4   Destination   8511 non-null   object \n",
      " 5   Age           8514 non-null   float64\n",
      " 6   VIP           8490 non-null   object \n",
      " 7   RoomService   8512 non-null   float64\n",
      " 8   FoodCourt     8510 non-null   float64\n",
      " 9   ShoppingMall  8485 non-null   float64\n",
      " 10  Spa           8510 non-null   float64\n",
      " 11  VRDeck        8505 non-null   float64\n",
      " 12  Name          8493 non-null   object \n",
      " 13  Transported   8693 non-null   bool   \n",
      "dtypes: bool(1), float64(6), object(7)\n",
      "memory usage: 891.5+ KB\n"
     ]
    }
   ],
   "source": [
    "df = pd.read_csv(\"../Data/train.csv\")\n",
    "df.info()"
   ]
  },
  {
   "cell_type": "code",
   "execution_count": null,
   "id": "f908ee57-e548-4f15-b612-775c9fedb9e7",
   "metadata": {},
   "outputs": [],
   "source": []
  }
 ],
 "metadata": {
  "kernelspec": {
   "display_name": "Python 3 (ipykernel)",
   "language": "python",
   "name": "python3"
  },
  "language_info": {
   "codemirror_mode": {
    "name": "ipython",
    "version": 3
   },
   "file_extension": ".py",
   "mimetype": "text/x-python",
   "name": "python",
   "nbconvert_exporter": "python",
   "pygments_lexer": "ipython3",
   "version": "3.11.7"
  }
 },
 "nbformat": 4,
 "nbformat_minor": 5
}
